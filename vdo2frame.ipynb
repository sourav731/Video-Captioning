{
 "cells": [
  {
   "cell_type": "code",
   "execution_count": 1,
   "metadata": {},
   "outputs": [],
   "source": [
    "import numpy as np\n",
    "import pandas as pd\n",
    "import os\n",
    "import cv2\n",
    "import tqdm\n",
    "from generateframes import GenerateFrame\n",
    "\n",
    "UPDATE = False"
   ]
  },
  {
   "cell_type": "code",
   "execution_count": 2,
   "metadata": {},
   "outputs": [],
   "source": [
    "df = pd.read_csv('kinetics/train.csv')"
   ]
  },
  {
   "cell_type": "code",
   "execution_count": 3,
   "metadata": {},
   "outputs": [],
   "source": [
    "ldict = {}\n",
    "i = 0\n",
    "labels = df['label'].unique()\n",
    "\n",
    "for label in labels :\n",
    "    ldict[label] = i\n",
    "    i += 1\n",
    "    \n",
    "df['label'] = df['label'].map(ldict)"
   ]
  },
  {
   "cell_type": "code",
   "execution_count": 4,
   "metadata": {},
   "outputs": [],
   "source": [
    "def convert_image(image,imageHeight=50,imageWidth=50):\n",
    "    img = cv2.imread(image,cv2.IMREAD_GRAYSCALE)\n",
    "    img = cv2.resize(img,(imageHeight,imageWidth))\n",
    "    return img"
   ]
  },
  {
   "cell_type": "code",
   "execution_count": 5,
   "metadata": {},
   "outputs": [],
   "source": [
    "def count_files(path):\n",
    "    return len(os.listdir(path)) - 1"
   ]
  },
  {
   "cell_type": "code",
   "execution_count": 6,
   "metadata": {},
   "outputs": [],
   "source": [
    "def create_dataset_array(path,base_name):\n",
    "    num_files = count_files(path)\n",
    "    count  = 0\n",
    "    frames = []\n",
    "    for i in range(20):\n",
    "        img_name = base_name + str(i*5) + '.jpg'\n",
    "        pth = os.path.join(path,img_name)\n",
    "        temp = convert_image(pth)\n",
    "        frames.append(temp)\n",
    "        \n",
    "    return frames"
   ]
  },
  {
   "cell_type": "code",
   "execution_count": 7,
   "metadata": {},
   "outputs": [],
   "source": [
    "def video_frames(dataframe=df):\n",
    "    videoframe = []\n",
    "    \n",
    "    for youtube_id,label in zip(dataframe['youtube_id'],dataframe['label']):\n",
    "        gf = GenerateFrame(youtube_id)\n",
    "        gf.generate_frames('', 'frames')\n",
    "        videoframe.append([create_dataset_array('frames','frame'),label])\n",
    "        \n",
    "    return video_frames"
   ]
  },
  {
   "cell_type": "code",
   "execution_count": 8,
   "metadata": {},
   "outputs": [
    {
     "name": "stdout",
     "output_type": "stream",
     "text": [
      "video frame has already been loaded\n"
     ]
    }
   ],
   "source": [
    "if UPDATE:\n",
    "    videoframe = video_frames(df)\n",
    "else:\n",
    "    print('video frame has already been loaded')"
   ]
  },
  {
   "cell_type": "code",
   "execution_count": 9,
   "metadata": {},
   "outputs": [],
   "source": [
    "# np.random.shuffle(videoframe)\n",
    "# np.save(\"training_data.npy\",videoframe)"
   ]
  },
  {
   "cell_type": "code",
   "execution_count": 10,
   "metadata": {},
   "outputs": [],
   "source": [
    "# training_data = np.load(\"training_data.npy\",allow_pickle=True)"
   ]
  },
  {
   "cell_type": "code",
   "execution_count": 11,
   "metadata": {},
   "outputs": [],
   "source": [
    "# import torch"
   ]
  },
  {
   "cell_type": "code",
   "execution_count": 12,
   "metadata": {},
   "outputs": [],
   "source": [
    "# X = torch.Tensor([i[0] for i in training_data]).view(-1,20,50,50)\n",
    "# X = X/255.0"
   ]
  },
  {
   "cell_type": "code",
   "execution_count": 13,
   "metadata": {},
   "outputs": [],
   "source": [
    "# X.shape"
   ]
  },
  {
   "cell_type": "code",
   "execution_count": 14,
   "metadata": {},
   "outputs": [],
   "source": [
    "# X"
   ]
  },
  {
   "cell_type": "code",
   "execution_count": 15,
   "metadata": {},
   "outputs": [],
   "source": [
    "# y = torch.Tensor([i[1] for i in training_data])"
   ]
  },
  {
   "cell_type": "code",
   "execution_count": 26,
   "metadata": {},
   "outputs": [
    {
     "ename": "SyntaxError",
     "evalue": "invalid character in identifier (<ipython-input-26-d1ca23926e25>, line 3)",
     "output_type": "error",
     "traceback": [
      "\u001b[0;36m  File \u001b[0;32m\"<ipython-input-26-d1ca23926e25>\"\u001b[0;36m, line \u001b[0;32m3\u001b[0m\n\u001b[0;31m    kinetics_data = torchvision.datasets.Kinetics400('./kinetics400',5, 1,frame_rate=None,extensions=(‘.avi’),transform=None, _precomputed_metadata=None,num_workers=1,_video_width=0,_video_height=0, _video_min_dimension=0)\u001b[0m\n\u001b[0m                                                                                                      ^\u001b[0m\n\u001b[0;31mSyntaxError\u001b[0m\u001b[0;31m:\u001b[0m invalid character in identifier\n"
     ]
    }
   ],
   "source": [
    "import torch\n",
    "import torchvision\n",
    "kinetics_data = torchvision.datasets.Kinetics400('./kinetics400',5, 1,frame_rate=None,extensions=(‘avi’),transform=None, _precomputed_metadata=None,num_workers=1,_video_width=0,_video_height=0, _video_min_dimension=0)\n",
    "data_loader = torch.utils.data.DataLoader(kinetics_data,batch_size=4,shuffle=True,num_workers=args.nThreads)"
   ]
  },
  {
   "cell_type": "code",
   "execution_count": null,
   "metadata": {},
   "outputs": [],
   "source": []
  },
  {
   "cell_type": "code",
   "execution_count": null,
   "metadata": {},
   "outputs": [],
   "source": []
  }
 ],
 "metadata": {
  "kernelspec": {
   "display_name": "Python 3",
   "language": "python",
   "name": "python3"
  },
  "language_info": {
   "codemirror_mode": {
    "name": "ipython",
    "version": 3
   },
   "file_extension": ".py",
   "mimetype": "text/x-python",
   "name": "python",
   "nbconvert_exporter": "python",
   "pygments_lexer": "ipython3",
   "version": "3.6.9"
  }
 },
 "nbformat": 4,
 "nbformat_minor": 4
}
