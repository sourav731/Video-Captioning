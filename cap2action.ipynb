{
 "cells": [
  {
   "cell_type": "code",
   "execution_count": 1,
   "metadata": {},
   "outputs": [],
   "source": [
    "import pandas as pd\n",
    "import numpy as np\n",
    "import nltk"
   ]
  },
  {
   "cell_type": "code",
   "execution_count": 2,
   "metadata": {},
   "outputs": [],
   "source": [
    "df = pd.read_csv('MSVD/MSVD.csv')"
   ]
  },
  {
   "cell_type": "code",
   "execution_count": 3,
   "metadata": {},
   "outputs": [
    {
     "data": {
      "text/html": [
       "<div>\n",
       "<style scoped>\n",
       "    .dataframe tbody tr th:only-of-type {\n",
       "        vertical-align: middle;\n",
       "    }\n",
       "\n",
       "    .dataframe tbody tr th {\n",
       "        vertical-align: top;\n",
       "    }\n",
       "\n",
       "    .dataframe thead th {\n",
       "        text-align: right;\n",
       "    }\n",
       "</style>\n",
       "<table border=\"1\" class=\"dataframe\">\n",
       "  <thead>\n",
       "    <tr style=\"text-align: right;\">\n",
       "      <th></th>\n",
       "      <th>VideoID</th>\n",
       "      <th>Start</th>\n",
       "      <th>End</th>\n",
       "      <th>WorkerID</th>\n",
       "      <th>Source</th>\n",
       "      <th>AnnotationTime</th>\n",
       "      <th>Language</th>\n",
       "      <th>Description</th>\n",
       "    </tr>\n",
       "  </thead>\n",
       "  <tbody>\n",
       "    <tr>\n",
       "      <th>0</th>\n",
       "      <td>mv89psg6zh4</td>\n",
       "      <td>33</td>\n",
       "      <td>46</td>\n",
       "      <td>682611</td>\n",
       "      <td>clean</td>\n",
       "      <td>66</td>\n",
       "      <td>English</td>\n",
       "      <td>A bird in a sink keeps getting under the runni...</td>\n",
       "    </tr>\n",
       "    <tr>\n",
       "      <th>1</th>\n",
       "      <td>mv89psg6zh4</td>\n",
       "      <td>33</td>\n",
       "      <td>46</td>\n",
       "      <td>760882</td>\n",
       "      <td>clean</td>\n",
       "      <td>16</td>\n",
       "      <td>English</td>\n",
       "      <td>A bird is bathing in a sink.</td>\n",
       "    </tr>\n",
       "    <tr>\n",
       "      <th>2</th>\n",
       "      <td>mv89psg6zh4</td>\n",
       "      <td>33</td>\n",
       "      <td>46</td>\n",
       "      <td>878566</td>\n",
       "      <td>clean</td>\n",
       "      <td>76</td>\n",
       "      <td>English</td>\n",
       "      <td>A bird is splashing around under a running fau...</td>\n",
       "    </tr>\n",
       "    <tr>\n",
       "      <th>3</th>\n",
       "      <td>mv89psg6zh4</td>\n",
       "      <td>33</td>\n",
       "      <td>46</td>\n",
       "      <td>707318</td>\n",
       "      <td>clean</td>\n",
       "      <td>14</td>\n",
       "      <td>English</td>\n",
       "      <td>A bird is bathing in a sink.</td>\n",
       "    </tr>\n",
       "    <tr>\n",
       "      <th>4</th>\n",
       "      <td>mv89psg6zh4</td>\n",
       "      <td>33</td>\n",
       "      <td>46</td>\n",
       "      <td>135621</td>\n",
       "      <td>clean</td>\n",
       "      <td>58</td>\n",
       "      <td>English</td>\n",
       "      <td>A bird is standing in a sink drinking water th...</td>\n",
       "    </tr>\n",
       "  </tbody>\n",
       "</table>\n",
       "</div>"
      ],
      "text/plain": [
       "       VideoID  Start  End  WorkerID Source  AnnotationTime Language  \\\n",
       "0  mv89psg6zh4     33   46    682611  clean              66  English   \n",
       "1  mv89psg6zh4     33   46    760882  clean              16  English   \n",
       "2  mv89psg6zh4     33   46    878566  clean              76  English   \n",
       "3  mv89psg6zh4     33   46    707318  clean              14  English   \n",
       "4  mv89psg6zh4     33   46    135621  clean              58  English   \n",
       "\n",
       "                                         Description  \n",
       "0  A bird in a sink keeps getting under the runni...  \n",
       "1                       A bird is bathing in a sink.  \n",
       "2  A bird is splashing around under a running fau...  \n",
       "3                       A bird is bathing in a sink.  \n",
       "4  A bird is standing in a sink drinking water th...  "
      ]
     },
     "execution_count": 3,
     "metadata": {},
     "output_type": "execute_result"
    }
   ],
   "source": [
    "df.head()"
   ]
  },
  {
   "cell_type": "code",
   "execution_count": 4,
   "metadata": {},
   "outputs": [
    {
     "data": {
      "text/plain": [
       "(85550, 8)"
      ]
     },
     "execution_count": 4,
     "metadata": {},
     "output_type": "execute_result"
    }
   ],
   "source": [
    "df.shape"
   ]
  },
  {
   "cell_type": "code",
   "execution_count": 5,
   "metadata": {},
   "outputs": [
    {
     "name": "stdout",
     "output_type": "stream",
     "text": [
      "<class 'pandas.core.frame.DataFrame'>\n",
      "RangeIndex: 85550 entries, 0 to 85549\n",
      "Data columns (total 8 columns):\n",
      " #   Column          Non-Null Count  Dtype \n",
      "---  ------          --------------  ----- \n",
      " 0   VideoID         85550 non-null  object\n",
      " 1   Start           85550 non-null  int64 \n",
      " 2   End             85550 non-null  int64 \n",
      " 3   WorkerID        85550 non-null  int64 \n",
      " 4   Source          85550 non-null  object\n",
      " 5   AnnotationTime  85550 non-null  int64 \n",
      " 6   Language        85550 non-null  object\n",
      " 7   Description     85549 non-null  object\n",
      "dtypes: int64(4), object(4)\n",
      "memory usage: 5.2+ MB\n"
     ]
    }
   ],
   "source": [
    "df.info()"
   ]
  },
  {
   "cell_type": "code",
   "execution_count": 6,
   "metadata": {},
   "outputs": [
    {
     "data": {
      "text/plain": [
       "unverified    51695\n",
       "clean         33855\n",
       "Name: Source, dtype: int64"
      ]
     },
     "execution_count": 6,
     "metadata": {},
     "output_type": "execute_result"
    }
   ],
   "source": [
    "df['Source'].value_counts()"
   ]
  },
  {
   "cell_type": "code",
   "execution_count": 7,
   "metadata": {},
   "outputs": [],
   "source": [
    "df['VideoLength'] = df['End'] - df['Start']"
   ]
  },
  {
   "cell_type": "code",
   "execution_count": 8,
   "metadata": {},
   "outputs": [],
   "source": [
    "df.dropna(inplace=True)"
   ]
  },
  {
   "cell_type": "code",
   "execution_count": 9,
   "metadata": {},
   "outputs": [],
   "source": [
    "df.drop(['Language'],inplace=True,axis=1)"
   ]
  },
  {
   "cell_type": "code",
   "execution_count": 10,
   "metadata": {},
   "outputs": [
    {
     "data": {
      "text/plain": [
       "0        A bird in a sink keeps getting under the runni...\n",
       "1                             A bird is bathing in a sink.\n",
       "2        A bird is splashing around under a running fau...\n",
       "3                             A bird is bathing in a sink.\n",
       "4        A bird is standing in a sink drinking water th...\n",
       "                               ...                        \n",
       "85545                 Milk being poured to a bowl of pasta\n",
       "85546                        the girls are mixing the milk\n",
       "85547           The lady added a cream sauce to the pasta.\n",
       "85548                         women are cooking her kichen\n",
       "85549           The woman is pouring cream over the pasta.\n",
       "Name: Description, Length: 85549, dtype: object"
      ]
     },
     "execution_count": 10,
     "metadata": {},
     "output_type": "execute_result"
    }
   ],
   "source": [
    "df['Description']"
   ]
  },
  {
   "cell_type": "code",
   "execution_count": 11,
   "metadata": {},
   "outputs": [],
   "source": [
    "# sentences = df['Description'][0]"
   ]
  },
  {
   "cell_type": "code",
   "execution_count": 12,
   "metadata": {},
   "outputs": [],
   "source": [
    "# sentences = nltk.sent_tokenize(str(sentences))"
   ]
  },
  {
   "cell_type": "code",
   "execution_count": 13,
   "metadata": {},
   "outputs": [],
   "source": [
    "# sentences"
   ]
  },
  {
   "cell_type": "code",
   "execution_count": 14,
   "metadata": {},
   "outputs": [],
   "source": [
    "# verbs = []\n",
    "# nouns = []\n",
    "\n",
    "# for sentence in sentences:\n",
    "#      for word,pos in nltk.pos_tag(nltk.word_tokenize(str(sentence))):\n",
    "#          if (pos == 'VBP' or pos == 'VBD' or pos == 'VB' or pos == 'VBZ' or pos=='VBG'):\n",
    "#             verbs.append(word)\n",
    "#          if (pos == 'NN' or pos == 'NNP' or pos == 'NNS' or pos == 'NNPS'):\n",
    "#             nouns.append(word)"
   ]
  },
  {
   "cell_type": "code",
   "execution_count": 15,
   "metadata": {},
   "outputs": [],
   "source": [
    "def extract_verb(sentences):\n",
    "    sentences = nltk.sent_tokenize(str(sentences))\n",
    "    \n",
    "    verbs = []\n",
    "    nouns = []\n",
    "\n",
    "    for sentence in sentences:\n",
    "         for word,pos in nltk.pos_tag(nltk.word_tokenize(str(sentence))):\n",
    "             if (pos == 'VBP' or pos == 'VBD' or pos == 'VB' or pos=='VBG'):\n",
    "                verbs.append(word)\n",
    "             if (pos == 'NN' or pos == 'NNP' or pos == 'NNS' or pos == 'NNPS'):\n",
    "                nouns.append(word)\n",
    "                \n",
    "    return verbs"
   ]
  },
  {
   "cell_type": "code",
   "execution_count": 16,
   "metadata": {},
   "outputs": [],
   "source": [
    "df['Verbs'] = df.apply(lambda row:extract_verb(row['Description']),axis=1)"
   ]
  },
  {
   "cell_type": "code",
   "execution_count": 20,
   "metadata": {},
   "outputs": [],
   "source": [
    "df.to_csv('MSVD/msvd_activity.csv',index=False)"
   ]
  },
  {
   "cell_type": "code",
   "execution_count": null,
   "metadata": {},
   "outputs": [],
   "source": []
  },
  {
   "cell_type": "code",
   "execution_count": null,
   "metadata": {},
   "outputs": [],
   "source": []
  },
  {
   "cell_type": "code",
   "execution_count": null,
   "metadata": {},
   "outputs": [],
   "source": []
  }
 ],
 "metadata": {
  "kernelspec": {
   "display_name": "Python 3",
   "language": "python",
   "name": "python3"
  },
  "language_info": {
   "codemirror_mode": {
    "name": "ipython",
    "version": 3
   },
   "file_extension": ".py",
   "mimetype": "text/x-python",
   "name": "python",
   "nbconvert_exporter": "python",
   "pygments_lexer": "ipython3",
   "version": "3.6.9"
  }
 },
 "nbformat": 4,
 "nbformat_minor": 4
}
