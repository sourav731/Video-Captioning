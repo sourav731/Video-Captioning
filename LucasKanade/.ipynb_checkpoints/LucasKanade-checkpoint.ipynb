{
 "cells": [
  {
   "cell_type": "code",
   "execution_count": 10,
   "metadata": {},
   "outputs": [],
   "source": [
    "import math\n",
    "from scipy import signal\n",
    "from PIL import Image\n",
    "import numpy as np\n",
    "from numpy import *\n",
    "from matplotlib import pyplot as plt\n",
    "from pylab import *\n",
    "import random\n",
    "import cv2\n",
    "import os"
   ]
  },
  {
   "cell_type": "code",
   "execution_count": 33,
   "metadata": {},
   "outputs": [],
   "source": [
    "def lucas_kanade(Image1,Image2,ImageLocation):\n",
    "    I1 = np.array(Image1)\n",
    "    I2 = np.array(Image2)\n",
    "    S = np.shape(I1)\n",
    "    \n",
    "    I1_smooth = cv2.GaussianBlur(I1,(3,3),0)\n",
    "    I2_smooth = cv2.GaussianBlur(I2,(3,3),0)\n",
    "    \n",
    "    Ix = signal.convolve2d(I1_smooth,[[-0.25,0.25],[-0.25,0.25]],'same')+signal.convolve2d(I2_smooth,[[-0.25,0.25],[-0.25,0.25]],'same')\n",
    "    Iy = signal.convolve2d(I1_smooth,[[-0.25,-0.25],[0.25,0.25]],'same')+signal.convolve2d(I2_smooth,[[-0.25,-0.25],[0.25,0.25]],'same')\n",
    "    It = signal.convolve2d(I1_smooth,[[0.25,0.25],[0.25,0.25]],'same')+signal.convolve2d(I2_smooth,[[-0.25,-0.25],[-0.25,-0.25]],'same')\n",
    "    \n",
    "    features = cv2.goodFeaturesToTrack(I1_smooth,10000,0.01,10)\n",
    "    feature = np.int0(features)\n",
    "        \n",
    "    u = v = np.nan*np.ones(S)\n",
    "    \n",
    "    for l in feature:\n",
    "        j,i = l.ravel()\n",
    "        \n",
    "        IX = ([Ix[i-1,j-1],Ix[i,j-1],Ix[i-1,j-1],Ix[i-1,j],Ix[i,j],Ix[i+1,j],Ix[i-1,j+1],Ix[i,j+1],Ix[i+1,j-1]])\n",
    "        IY = ([Iy[i-1,j-1],Iy[i,j-1],Iy[i-1,j-1],Iy[i-1,j],Iy[i,j],Iy[i+1,j],Iy[i-1,j+1],Iy[i,j+1],Iy[i+1,j-1]])\n",
    "        IT = ([It[i-1,j-1],It[i,j-1],It[i-1,j-1],It[i-1,j],It[i,j],It[i+1,j],It[i-1,j+1],It[i,j+1],It[i+1,j-1]])\n",
    "        \n",
    "        LK = (IX,IY)\n",
    "        LK = np.matrix(LK)\n",
    "        LK_T = np.array(np.matrix(LK))\n",
    "        LK = np.array(np.matrix.transpose(LK))\n",
    "        \n",
    "        A1 = np.dot(LK_T,LK)\n",
    "        A2 = np.linalg.pinv(A1)\n",
    "        A3 = np.dot(A2,LK_T)\n",
    "        \n",
    "        (u[i,j],v[i,j]) = np.dot(A3,IT)\n",
    "    \n",
    "    fig = plt.figure()\n",
    "    ax = plt.Axes(fig, [0., 0., 1., 1.])\n",
    "    ax.set_axis_off()\n",
    "    fig.add_axes(ax)    \n",
    "    plt.imshow(I1)\n",
    "\n",
    "    for i in range(S[0]):\n",
    "        for j in range(S[1]):\n",
    "            if abs(u[i,j])>t or abs(v[i,j])>t:\n",
    "                plt.arrow(j,i,v[i,j],u[i,j],head_width = 5, head_length = 5, color = 'r')\n",
    "    \n",
    "    plt.close()\n",
    "    fig.savefig(ImageLocation+'.jpg')\n",
    "    \n",
    "t = 0.3\n",
    "\n",
    "Image1 = Image.open('basketball1.png').convert('L')\n",
    "Image2 = Image.open('basketball2.png').convert('L')\n",
    "lucas_kanade(Image1, Image2,'OpticalFlow')"
   ]
  },
  {
   "cell_type": "code",
   "execution_count": 34,
   "metadata": {},
   "outputs": [],
   "source": [
    "def optical_flow(videoname):\n",
    "    cap = cv2.VideoCapture(videoname)\n",
    "    i=0\n",
    "\n",
    "    framefolder = videoname+'Frames'\n",
    "    opticalflowfolder = 'OpticalFlow'\n",
    "    \n",
    "    os.mkdir(framefolder)\n",
    "    os.mkdir(os.path.join(framefolder, opticalflowfolder))\n",
    "    \n",
    "    while(cap.isOpened()):\n",
    "        ret,frame = cap.read()\n",
    "        if ret == False:\n",
    "            break\n",
    "    \n",
    "        if i%10 == 0:\n",
    "            cv2.imwrite(framefolder+'/frame%d.jpg'%i,frame)    \n",
    "        i += 1\n",
    "        \n",
    "    number_of_frames = i//10\n",
    "    \n",
    "    for i in range(0,number_of_frames):\n",
    "        image1 = Image.open(framefolder+('/frame%d.jpg'%(i*10))).convert('L')\n",
    "        image2 = Image.open(framefolder+('/frame%d.jpg'%((i+1)*10))).convert('L')\n",
    "    \n",
    "        lucas_kanade(image1, image2,framefolder+'/'+opticalflowfolder+('/oframe%d'%i))"
   ]
  },
  {
   "cell_type": "code",
   "execution_count": 35,
   "metadata": {},
   "outputs": [],
   "source": [
    "optical_flow('Butterfly.mp4')"
   ]
  },
  {
   "cell_type": "code",
   "execution_count": null,
   "metadata": {},
   "outputs": [],
   "source": []
  },
  {
   "cell_type": "code",
   "execution_count": null,
   "metadata": {},
   "outputs": [],
   "source": []
  }
 ],
 "metadata": {
  "kernelspec": {
   "display_name": "Python 3",
   "language": "python",
   "name": "python3"
  },
  "language_info": {
   "codemirror_mode": {
    "name": "ipython",
    "version": 3
   },
   "file_extension": ".py",
   "mimetype": "text/x-python",
   "name": "python",
   "nbconvert_exporter": "python",
   "pygments_lexer": "ipython3",
   "version": "3.6.9"
  }
 },
 "nbformat": 4,
 "nbformat_minor": 4
}
